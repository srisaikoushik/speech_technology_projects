{
 "cells": [
  {
   "cell_type": "markdown",
   "metadata": {},
   "source": [
    "# speaker verification for text dependent utterences using with and without Gaussian posteriograms"
   ]
  },
  {
   "cell_type": "code",
   "execution_count": 1,
   "metadata": {},
   "outputs": [],
   "source": [
    "import scipy.io.wavfile as wav\n",
    "import numpy as np\n",
    "import librosa\n",
    "from sklearn.mixture import GaussianMixture\n",
    "from sklearn.metrics import confusion_matrix\n",
    "from dtw import dtw\n",
    "import math\n",
    "import matplotlib.pyplot as plt"
   ]
  },
  {
   "cell_type": "markdown",
   "metadata": {},
   "source": [
    "### function to calculate mfcc from wav file and computes CMVN "
   ]
  },
  {
   "cell_type": "code",
   "execution_count": 2,
   "metadata": {},
   "outputs": [],
   "source": [
    "# Define the number of MFCC coefficients to compute\n",
    "n_mfcc = 39\n",
    "def compute_mfcc(audio_file):\n",
    "    # Load the audio file and its sample rate\n",
    "    signal, sr = librosa.load(audio_file, sr=None)\n",
    "    # Compute the MFCC features\n",
    "    mfcc = librosa.feature.mfcc(y=signal, sr=sr, n_mfcc=n_mfcc)\n",
    "    mfcc = mfcc.T\n",
    "    mfcc_mean = np.mean(mfcc, axis=1)\n",
    "    mfcc_var = np.var(mfcc, axis=1)\n",
    "    # Apply CMVN\n",
    "    mfcc_cmvn = (mfcc - mfcc_mean.reshape((-1, 1))) / np.sqrt(mfcc_var).reshape((-1, 1))\n",
    "    return mfcc_cmvn"
   ]
  },
  {
   "cell_type": "markdown",
   "metadata": {},
   "source": [
    "# 1.Speech Verification without Gaussian Posteriorgrams  "
   ]
  },
  {
   "cell_type": "code",
   "execution_count": 3,
   "metadata": {},
   "outputs": [],
   "source": [
    "DTWSPEAKER = []\n",
    "for sp in range(1,6):\n",
    "    path = 'data4/speaker'+str(sp)+'/train/speaker'+str(sp)+'_1.wav'\n",
    "    mfcc = compute_mfcc(path)\n",
    "    DTWSPEAKER.append(mfcc)\n",
    "DTWSPEAKER = np.array(DTWSPEAKER)"
   ]
  },
  {
   "cell_type": "code",
   "execution_count": 4,
   "metadata": {},
   "outputs": [],
   "source": [
    "def speaker_verification_without_gmms(DTW_SPEAKER,path):\n",
    "    mfcc = compute_mfcc(path)\n",
    "    dtw_vals = []\n",
    "    for i in range(5):\n",
    "        dist_score, cost, acc, path = dtw(mfcc, DTW_SPEAKER[i], dist=lambda x, y: np.linalg.norm(x - y, ord=2))\n",
    "        dtw_vals.append(dist_score)\n",
    "    return dtw_vals.index(min(dtw_vals))"
   ]
  },
  {
   "cell_type": "code",
   "execution_count": 5,
   "metadata": {},
   "outputs": [
    {
     "name": "stdout",
     "output_type": "stream",
     "text": [
      "Confusion matrix:\n",
      " [[8 0 0 0 0]\n",
      " [0 8 0 0 0]\n",
      " [6 0 2 0 0]\n",
      " [0 0 0 8 0]\n",
      " [0 0 0 0 8]]\n"
     ]
    }
   ],
   "source": [
    "test_labels = []\n",
    "predicted_labels = []\n",
    "for sp in range(1,6):\n",
    "    for j in range(1,9):\n",
    "        path = 'data4/speaker'+str(sp)+'/test/speaker'+str(sp)+'_'+str(j)+'.wav'\n",
    "        test_labels.append(sp)\n",
    "        pred_val = speaker_verification_without_gmms(DTWSPEAKER,path)\n",
    "        predicted_labels.append(pred_val+1)\n",
    "conf_mat = confusion_matrix(test_labels, predicted_labels)\n",
    "print(\"Confusion matrix:\\n\", conf_mat)"
   ]
  },
  {
   "cell_type": "code",
   "execution_count": null,
   "metadata": {},
   "outputs": [],
   "source": []
  },
  {
   "cell_type": "code",
   "execution_count": null,
   "metadata": {},
   "outputs": [],
   "source": []
  },
  {
   "cell_type": "markdown",
   "metadata": {},
   "source": [
    "# speaker verification using gaussian posteriorgrams"
   ]
  },
  {
   "cell_type": "markdown",
   "metadata": {},
   "source": [
    "## train GMM's for multiple speakers"
   ]
  },
  {
   "cell_type": "code",
   "execution_count": 7,
   "metadata": {},
   "outputs": [],
   "source": [
    "# Define the number of Gaussian components for the GMM\n",
    "n_components = 8\n",
    "# Define the maximum number of iterations for the GMM training\n",
    "max_iter = 100\n",
    "# Define a function to compute the MFCC features for a given audio file\n",
    "\n",
    "\n",
    "# Train a GMM for each digit using the training MFCC features\n",
    "speaker_gmms = {}\n",
    "for sp in range(1,6):\n",
    "    # Compute the MFCC features for each training file\n",
    "    train_files = []\n",
    "    for i in range(1,4):\n",
    "        path = 'data4/speaker'+str(sp)+'/train/speaker'+str(sp)+'_'+str(i)+'.wav'\n",
    "        #print(path)\n",
    "        train_files.append(path)\n",
    "    train_mfcc = []\n",
    "    \n",
    "    for train_file in train_files:\n",
    "        mfcc = compute_mfcc(train_file)\n",
    "        train_mfcc.append(mfcc)\n",
    "    \n",
    "    # Extract the MFCC features for the current digit\n",
    "    speaker_mfcc = train_mfcc\n",
    "    \n",
    "    # Train a GMM with the specified number of components\n",
    "    gmm = GaussianMixture(n_components=n_components, max_iter=max_iter)\n",
    "    gmm.fit(np.vstack(speaker_mfcc))\n",
    "\n",
    "    # Store the trained GMM\n",
    "    speaker_gmms[sp] = gmm\n"
   ]
  },
  {
   "cell_type": "code",
   "execution_count": 8,
   "metadata": {},
   "outputs": [],
   "source": [
    "def multivariate_gaussian_log(x, mu, cov):\n",
    "    n = len(x)\n",
    "    det_cov = np.linalg.det(cov)\n",
    "    inv_cov = np.linalg.inv(cov)\n",
    "\n",
    "    exp_term = -0.5 * np.dot(np.dot((x - mu), inv_cov), (x - mu).T)\n",
    "    const_term = -(n/2)*np.log(2 * math.pi) - (1/2)*np.log(det_cov)\n",
    "    log_value = exp_term + const_term \n",
    "    return log_value\n"
   ]
  },
  {
   "cell_type": "code",
   "execution_count": 9,
   "metadata": {},
   "outputs": [],
   "source": [
    "# np.set_printoptions(formatter={'float': lambda x: \"{0:0.1f}\".format(x)})\n",
    "\n",
    "DTW_SPEAKER = []\n",
    "for sp in range(1,6):\n",
    "    path = 'data4/speaker'+str(sp)+'/train/speaker'+str(sp)+'_1.wav'\n",
    "    mfcc = compute_mfcc(path)\n",
    "    prob = []\n",
    "    for k in mfcc:\n",
    "        prob1 = []\n",
    "        for i in range(8):\n",
    "            pb = multivariate_gaussian_log(k,speaker_gmms[sp].means_[i],speaker_gmms[sp].covariances_[i])\n",
    "            pb = pb + np.log(speaker_gmms[sp].weights_[i]) - speaker_gmms[sp].score_samples(k.reshape(1, -1))\n",
    "            prob1.append(pb)\n",
    "        prob1 = np.array(prob1)\n",
    "        prob1 = prob1.flatten()\n",
    "        norm1 = np.linalg.norm(prob1)\n",
    "        prob1 = prob1/norm1\n",
    "        prob.append(prob1)\n",
    "    DTW_SPEAKER.append(prob)\n",
    "DTW_SPEAKER = np.array(DTW_SPEAKER)"
   ]
  },
  {
   "cell_type": "markdown",
   "metadata": {},
   "source": [
    "### speaker verification with Gaussian Posteriorgrams"
   ]
  },
  {
   "cell_type": "code",
   "execution_count": 12,
   "metadata": {},
   "outputs": [],
   "source": [
    "def speaker_verification(DTW_SPEAKER,path):\n",
    "    mfcc = compute_mfcc(path)\n",
    "    \n",
    "    dtw_vals  =[]\n",
    "    # i range should be number of speakers\n",
    "    for sp in range(1,6):\n",
    "        prob = []\n",
    "        for k in mfcc:\n",
    "            prob1 = []\n",
    "            for i in range(8):\n",
    "                pb = multivariate_gaussian_log(k,speaker_gmms[sp].means_[i],speaker_gmms[sp].covariances_[i])\n",
    "                pb = pb + np.log(speaker_gmms[sp].weights_[i]) - speaker_gmms[sp].score_samples(k.reshape(1, -1))\n",
    "                prob1.append(pb)\n",
    "            prob1 = np.array(prob1)\n",
    "            prob1 = prob1.flatten()\n",
    "            norm1 = np.linalg.norm(prob1)\n",
    "            prob1 = prob1/norm1\n",
    "            prob.append(prob1)\n",
    "        \n",
    "        prob = np.array(prob)\n",
    "        dist_score, cost, acc, path = dtw(prob, DTW_SPEAKER[sp-1], dist=lambda x, y: np.linalg.norm(x - y, ord=2))\n",
    "        dtw_vals.append(dist_score)\n",
    "    return dtw_vals.index(min(dtw_vals))\n",
    "    "
   ]
  },
  {
   "cell_type": "markdown",
   "metadata": {},
   "source": [
    "### Testing data"
   ]
  },
  {
   "cell_type": "code",
   "execution_count": 13,
   "metadata": {
    "scrolled": true
   },
   "outputs": [
    {
     "name": "stdout",
     "output_type": "stream",
     "text": [
      "[12.215988174753157, 18.642821669883105, 18.95778363579521, 21.386789151052884, 23.60048635185177]\n",
      "[11.122745490247153, 19.247870686302964, 18.526032799053066, 19.555520009884223, 22.24025739734282]\n",
      "[12.698546928103244, 19.924396120286513, 20.171238835543846, 19.162944488441752, 24.241617305177552]\n",
      "[9.031318507030859, 18.992290963882102, 20.55050390451259, 20.039319790310238, 23.57003088659406]\n",
      "[9.483261752283196, 19.344959578117184, 20.812078340934637, 19.396315773089103, 23.654941669616694]\n",
      "[12.408610232820797, 19.307124174108615, 20.389620954526123, 18.475476819191957, 24.46935064257191]\n",
      "[16.161896836561315, 19.76906581924652, 21.45138818467181, 17.655209813792304, 23.9469291362952]\n",
      "[17.053203108133957, 19.44336775657353, 20.55405750923431, 18.404926351222723, 23.350383998647565]\n",
      "[30.449868934839284, 11.55922857863314, 23.656379653711408, 16.628799324788517, 25.53758327004849]\n",
      "[29.319868309972012, 7.135457119171621, 21.306344999534474, 18.15539471174911, 22.592047944948867]\n",
      "[31.380643459995124, 16.71548534636248, 23.863978376394243, 19.65705868452264, 26.411206852233885]\n",
      "[31.06305655610133, 9.544898451719247, 21.30438762923766, 19.972968570351604, 24.48797379433183]\n",
      "[30.21062526994567, 7.589566960243402, 22.301727785845475, 18.125762170251384, 23.11737126025077]\n",
      "[29.950918171545496, 13.685336577874372, 23.584912670932248, 16.622569110594004, 25.810867291730958]\n",
      "[31.793003986647218, 16.316244716198266, 24.211153782214986, 22.791950944259984, 25.646874392036228]\n",
      "[31.774872893618543, 19.079681443215204, 24.732866830444582, 23.1327301906732, 25.18544281893008]\n",
      "[25.354535290185375, 19.63367881012844, 7.975533894004093, 18.577442640091938, 23.737240096317787]\n",
      "[21.849681040459696, 17.935166417142053, 6.342530994159437, 16.550653534956762, 22.54710738281094]\n",
      "[21.873464665260315, 20.08634245051917, 17.719909188232407, 22.497048194183947, 24.183472975230426]\n",
      "[19.202948076356602, 20.207188500624373, 16.715062629546242, 22.029227084188925, 23.50671708679408]\n",
      "[20.404946739055468, 19.194775663742604, 16.950319729342777, 20.537972777506276, 23.640819496200773]\n",
      "[20.931867024740686, 19.839473340706512, 18.948400704985758, 20.831064197809695, 23.45169014023662]\n",
      "[18.661736075116266, 19.177742737875725, 17.503994329777864, 20.426192264146852, 23.248466875370557]\n",
      "[19.53747409950013, 19.263396755022413, 19.688675052343363, 20.091426524266026, 23.793563887312146]\n",
      "[30.00418819290498, 16.358606419778273, 25.774162129081105, 10.15316742575139, 24.98508330819765]\n",
      "[29.13056557030768, 16.929740653341216, 25.117425958453897, 7.578937898932816, 24.65752070113265]\n",
      "[29.75319952894024, 15.484596263233513, 25.87940024733651, 8.532302067740149, 24.32374977433086]\n",
      "[29.09135168113057, 15.209550292992278, 25.704819155536118, 7.147089439706715, 24.593216111219427]\n",
      "[29.70763072646916, 14.987949071529833, 26.863436783747254, 7.707485655884776, 25.307851751617104]\n",
      "[28.829840764859785, 15.747796256088446, 26.030092211346325, 7.206820430099136, 25.48869115491342]\n",
      "[27.33888306332379, 15.749372431283007, 25.13599940793204, 5.679207019409701, 25.619151939305226]\n",
      "[28.003829845092366, 16.33230365869045, 24.879341089556075, 7.158705950881112, 25.436375439836144]\n",
      "[27.89862766676061, 20.7785633853614, 20.425322228880397, 21.153125437897565, 15.61845639173131]\n",
      "[26.35107559168953, 20.58936933216614, 21.94165627926376, 20.882063758012222, 11.562997881756331]\n",
      "[27.189031916468164, 22.365191079852693, 23.87496480488472, 21.88329889636298, 16.531057590765336]\n",
      "[26.02807002633015, 21.990667466305347, 21.19940993208388, 21.51233277750295, 9.623011433572538]\n",
      "[26.628731669132375, 21.17641111366488, 21.307973727678093, 20.51078374302294, 7.944360199835815]\n",
      "[26.517910460705817, 21.37659455038855, 21.54365200359357, 22.248220079343874, 7.984518595861417]\n",
      "[26.63888120789574, 21.770089565074336, 21.928737636425577, 21.971406692449914, 7.634040199295997]\n",
      "[24.868407833017447, 20.780139501990202, 22.279530756409375, 21.442864745534347, 9.107716221224138]\n",
      "Confusion matrix:\n",
      " [[8 0 0 0 0]\n",
      " [0 8 0 0 0]\n",
      " [0 1 7 0 0]\n",
      " [0 0 0 8 0]\n",
      " [0 0 0 0 8]]\n"
     ]
    }
   ],
   "source": [
    "test_labels = []\n",
    "predicted_labels = []\n",
    "for sp in range(1,6):\n",
    "    for j in range(1,9):\n",
    "        path = 'data4/speaker'+str(sp)+'/test/speaker'+str(sp)+'_'+str(j)+'.wav'\n",
    "        test_labels.append(sp)\n",
    "        pred_val = speaker_verification(DTW_SPEAKER,path)\n",
    "        predicted_labels.append(pred_val+1)\n",
    "conf_mat = confusion_matrix(test_labels, predicted_labels)\n",
    "print(\"Confusion matrix:\\n\", conf_mat)"
   ]
  },
  {
   "cell_type": "code",
   "execution_count": null,
   "metadata": {},
   "outputs": [],
   "source": []
  },
  {
   "cell_type": "code",
   "execution_count": null,
   "metadata": {},
   "outputs": [],
   "source": []
  }
 ],
 "metadata": {
  "kernelspec": {
   "display_name": "Python 3",
   "language": "python",
   "name": "python3"
  },
  "language_info": {
   "codemirror_mode": {
    "name": "ipython",
    "version": 3
   },
   "file_extension": ".py",
   "mimetype": "text/x-python",
   "name": "python",
   "nbconvert_exporter": "python",
   "pygments_lexer": "ipython3",
   "version": "3.7.7"
  }
 },
 "nbformat": 4,
 "nbformat_minor": 4
}
