{
 "cells": [
  {
   "cell_type": "code",
   "execution_count": 4,
   "metadata": {},
   "outputs": [],
   "source": [
    "import scipy.io.wavfile as wav\n",
    "from dtw import dtw\n",
    "import matplotlib.pyplot as plt\n",
    "import numpy as np\n",
    "import librosa\n",
    "from sklearn.mixture import GaussianMixture\n",
    "from sklearn.metrics import confusion_matrix"
   ]
  },
  {
   "cell_type": "markdown",
   "metadata": {},
   "source": [
    "# GMM model training for digit recognisation"
   ]
  },
  {
   "cell_type": "code",
   "execution_count": 5,
   "metadata": {},
   "outputs": [],
   "source": [
    "# Define the number of MFCC coefficients to compute\n",
    "n_mfcc = 39\n",
    "\n",
    "# Define the number of Gaussian components for the GMM\n",
    "n_components = 32\n",
    "\n",
    "# Define the maximum number of iterations for the GMM training\n",
    "max_iter = 100\n",
    "\n",
    "# Define a function to compute the MFCC features for a given audio file\n",
    "def compute_mfcc(audio_file):\n",
    "    # Load the audio file and its sample rate\n",
    "    signal, sr = librosa.load(audio_file, sr=None)\n",
    "\n",
    "    # Compute the MFCC features\n",
    "    mfcc = librosa.feature.mfcc(y=signal, sr=sr, n_mfcc=n_mfcc)\n",
    "\n",
    "    return mfcc.T\n",
    "\n",
    "\n",
    "# Train a GMM for each digit using the training MFCC features\n",
    "digit_gmms = {}\n",
    "for digit in range(10):\n",
    "    # Compute the MFCC features for each training file\n",
    "    train_files = []\n",
    "    arr = [1,2,3,16,18]\n",
    "    for i in arr:\n",
    "        path = 'data/'+str(digit)+'/190108050_'+str(digit)+'_'+str(i)+'.wav'\n",
    "        #print(path)\n",
    "        train_files.append(path)\n",
    "    train_mfcc = []\n",
    "    for train_file in train_files:\n",
    "        mfcc1 = compute_mfcc(train_file)\n",
    "        train_mfcc.append(mfcc1)\n",
    "    # Extract the MFCC features for the current digit\n",
    "    digit_mfcc = train_mfcc\n",
    "\n",
    "    # Train a GMM with the specified number of components\n",
    "    gmm = GaussianMixture(n_components=n_components, max_iter=max_iter)\n",
    "    gmm.fit(np.vstack(digit_mfcc))\n",
    "\n",
    "    # Store the trained GMM\n",
    "    digit_gmms[digit] = gmm\n"
   ]
  },
  {
   "cell_type": "markdown",
   "metadata": {},
   "source": [
    "# GMM model for digit recognisation testing"
   ]
  },
  {
   "cell_type": "code",
   "execution_count": 6,
   "metadata": {},
   "outputs": [
    {
     "name": "stdout",
     "output_type": "stream",
     "text": [
      "Confusion matrix:\n",
      " [[20  0  0  0  0  0  0  0  0  0]\n",
      " [ 0 16  0  0  0  0  0  4  0  0]\n",
      " [ 0  0 20  0  0  0  0  0  0  0]\n",
      " [ 0  0  0 20  0  0  0  0  0  0]\n",
      " [ 0  0  0  0 20  0  0  0  0  0]\n",
      " [ 0  0  0  0  0 18  0  2  0  0]\n",
      " [ 0  0  0  0  0  0 20  0  0  0]\n",
      " [ 0  0  0  0  0  0  0 20  0  0]\n",
      " [ 0  0  0  0  0  0  0  0 20  0]\n",
      " [ 0  0  0  0  0  0  0  0  0 20]]\n"
     ]
    }
   ],
   "source": [
    "# Compute the MFCC features for each test file\n",
    "test_mfcc = []\n",
    "test_labels = []\n",
    "\n",
    "for digit in range(10):\n",
    "    for i in range(1,26):\n",
    "        if i in arr:\n",
    "            pass\n",
    "        else:\n",
    "            path = 'data/'+str(digit)+'/190108050_'+str(digit)+'_'+str(i)+'.wav'\n",
    "            mfcc = compute_mfcc(path)\n",
    "            test_mfcc.append(mfcc)\n",
    "            test_labels.append(digit)\n",
    "\n",
    "# Perform digit recognition using the trained GMMs\n",
    "predicted_labels = []\n",
    "for mfcc in test_mfcc:\n",
    "    # Compute the log-likelihood of the MFCC features under each GMM\n",
    "    log_likelihoods = []\n",
    "    for digit, gmm in digit_gmms.items():\n",
    "        log_likelihood = gmm.score(mfcc)\n",
    "        log_likelihoods.append(log_likelihood)\n",
    "\n",
    "    # Identify the digit with the highest log-likelihood\n",
    "    predicted_label = np.argmax(log_likelihoods)\n",
    "    predicted_labels.append(predicted_label)\n",
    "\n",
    "# Compute the confusion matrix for the recognition task\n",
    "conf_mat = confusion_matrix(test_labels, predicted_labels)\n",
    "print(\"Confusion matrix:\\n\", conf_mat)\n",
    "\n",
    "    "
   ]
  },
  {
   "cell_type": "code",
   "execution_count": null,
   "metadata": {},
   "outputs": [],
   "source": []
  }
 ],
 "metadata": {
  "kernelspec": {
   "display_name": "Python 3",
   "language": "python",
   "name": "python3"
  },
  "language_info": {
   "codemirror_mode": {
    "name": "ipython",
    "version": 3
   },
   "file_extension": ".py",
   "mimetype": "text/x-python",
   "name": "python",
   "nbconvert_exporter": "python",
   "pygments_lexer": "ipython3",
   "version": "3.7.7"
  }
 },
 "nbformat": 4,
 "nbformat_minor": 4
}
